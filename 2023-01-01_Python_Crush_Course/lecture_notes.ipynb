{
 "cells": [
  {
   "cell_type": "markdown",
   "metadata": {},
   "source": [
    "# Crush course on Python"
   ]
  },
  {
   "cell_type": "code",
   "execution_count": 1,
   "metadata": {},
   "outputs": [],
   "source": [
    "%matplotlib inline\n",
    "import os\n",
    "import numpy as np\n",
    "import pandas as pd\n",
    "import matplotlib.pyplot as plt\n",
    "import sys"
   ]
  },
  {
   "cell_type": "markdown",
   "metadata": {},
   "source": [
    "## Week1"
   ]
  },
  {
   "cell_type": "code",
   "execution_count": 1,
   "metadata": {},
   "outputs": [
    {
     "name": "stdout",
     "output_type": "stream",
     "text": [
      "Hello World\n"
     ]
    }
   ],
   "source": [
    "print(\"Hello World\")"
   ]
  },
  {
   "cell_type": "code",
   "execution_count": 3,
   "metadata": {},
   "outputs": [
    {
     "data": {
      "text/plain": [
       "'/Users/nealxun/Documents/My_Study/Coursera/2023-01-01_Python_Crush_Course'"
      ]
     },
     "execution_count": 3,
     "metadata": {},
     "output_type": "execute_result"
    }
   ],
   "source": [
    "os.getcwd()"
   ]
  },
  {
   "cell_type": "code",
   "execution_count": 4,
   "metadata": {},
   "outputs": [
    {
     "data": {
      "text/plain": [
       "'3.9.13 (main, Aug 25 2022, 18:29:29) \\n[Clang 12.0.0 ]'"
      ]
     },
     "execution_count": 4,
     "metadata": {},
     "output_type": "execute_result"
    }
   ],
   "source": [
    "sys.version"
   ]
  },
  {
   "cell_type": "code",
   "execution_count": 4,
   "metadata": {},
   "outputs": [],
   "source": [
    "def square(x):\n",
    "    return x * x"
   ]
  },
  {
   "cell_type": "code",
   "execution_count": 5,
   "metadata": {},
   "outputs": [
    {
     "name": "stdout",
     "output_type": "stream",
     "text": [
      "4 squared is 16\n"
     ]
    }
   ],
   "source": [
    "x = np.random.randint(1, 10)\n",
    "y = square(x)\n",
    "print('%d squared is %d' % (x, y))"
   ]
  },
  {
   "cell_type": "code",
   "execution_count": 6,
   "metadata": {},
   "outputs": [],
   "source": [
    "df = pd.read_csv(\"hotel_bookings.csv\")"
   ]
  },
  {
   "cell_type": "code",
   "execution_count": 7,
   "metadata": {},
   "outputs": [
    {
     "data": {
      "text/html": [
       "<div>\n",
       "<style scoped>\n",
       "    .dataframe tbody tr th:only-of-type {\n",
       "        vertical-align: middle;\n",
       "    }\n",
       "\n",
       "    .dataframe tbody tr th {\n",
       "        vertical-align: top;\n",
       "    }\n",
       "\n",
       "    .dataframe thead th {\n",
       "        text-align: right;\n",
       "    }\n",
       "</style>\n",
       "<table border=\"1\" class=\"dataframe\">\n",
       "  <thead>\n",
       "    <tr style=\"text-align: right;\">\n",
       "      <th></th>\n",
       "      <th>hotel</th>\n",
       "      <th>is_canceled</th>\n",
       "      <th>lead_time</th>\n",
       "      <th>arrival_date_year</th>\n",
       "      <th>arrival_date_month</th>\n",
       "      <th>arrival_date_week_number</th>\n",
       "      <th>arrival_date_day_of_month</th>\n",
       "      <th>stays_in_weekend_nights</th>\n",
       "      <th>stays_in_week_nights</th>\n",
       "      <th>adults</th>\n",
       "      <th>...</th>\n",
       "      <th>deposit_type</th>\n",
       "      <th>agent</th>\n",
       "      <th>company</th>\n",
       "      <th>days_in_waiting_list</th>\n",
       "      <th>customer_type</th>\n",
       "      <th>adr</th>\n",
       "      <th>required_car_parking_spaces</th>\n",
       "      <th>total_of_special_requests</th>\n",
       "      <th>reservation_status</th>\n",
       "      <th>reservation_status_date</th>\n",
       "    </tr>\n",
       "  </thead>\n",
       "  <tbody>\n",
       "    <tr>\n",
       "      <td>0</td>\n",
       "      <td>Resort Hotel</td>\n",
       "      <td>0</td>\n",
       "      <td>342</td>\n",
       "      <td>2015</td>\n",
       "      <td>July</td>\n",
       "      <td>27</td>\n",
       "      <td>1</td>\n",
       "      <td>0</td>\n",
       "      <td>0</td>\n",
       "      <td>2</td>\n",
       "      <td>...</td>\n",
       "      <td>No Deposit</td>\n",
       "      <td>NaN</td>\n",
       "      <td>NaN</td>\n",
       "      <td>0</td>\n",
       "      <td>Transient</td>\n",
       "      <td>0.0</td>\n",
       "      <td>0</td>\n",
       "      <td>0</td>\n",
       "      <td>Check-Out</td>\n",
       "      <td>2015-07-01</td>\n",
       "    </tr>\n",
       "    <tr>\n",
       "      <td>1</td>\n",
       "      <td>Resort Hotel</td>\n",
       "      <td>0</td>\n",
       "      <td>737</td>\n",
       "      <td>2015</td>\n",
       "      <td>July</td>\n",
       "      <td>27</td>\n",
       "      <td>1</td>\n",
       "      <td>0</td>\n",
       "      <td>0</td>\n",
       "      <td>2</td>\n",
       "      <td>...</td>\n",
       "      <td>No Deposit</td>\n",
       "      <td>NaN</td>\n",
       "      <td>NaN</td>\n",
       "      <td>0</td>\n",
       "      <td>Transient</td>\n",
       "      <td>0.0</td>\n",
       "      <td>0</td>\n",
       "      <td>0</td>\n",
       "      <td>Check-Out</td>\n",
       "      <td>2015-07-01</td>\n",
       "    </tr>\n",
       "    <tr>\n",
       "      <td>2</td>\n",
       "      <td>Resort Hotel</td>\n",
       "      <td>0</td>\n",
       "      <td>7</td>\n",
       "      <td>2015</td>\n",
       "      <td>July</td>\n",
       "      <td>27</td>\n",
       "      <td>1</td>\n",
       "      <td>0</td>\n",
       "      <td>1</td>\n",
       "      <td>1</td>\n",
       "      <td>...</td>\n",
       "      <td>No Deposit</td>\n",
       "      <td>NaN</td>\n",
       "      <td>NaN</td>\n",
       "      <td>0</td>\n",
       "      <td>Transient</td>\n",
       "      <td>75.0</td>\n",
       "      <td>0</td>\n",
       "      <td>0</td>\n",
       "      <td>Check-Out</td>\n",
       "      <td>2015-07-02</td>\n",
       "    </tr>\n",
       "    <tr>\n",
       "      <td>3</td>\n",
       "      <td>Resort Hotel</td>\n",
       "      <td>0</td>\n",
       "      <td>13</td>\n",
       "      <td>2015</td>\n",
       "      <td>July</td>\n",
       "      <td>27</td>\n",
       "      <td>1</td>\n",
       "      <td>0</td>\n",
       "      <td>1</td>\n",
       "      <td>1</td>\n",
       "      <td>...</td>\n",
       "      <td>No Deposit</td>\n",
       "      <td>304.0</td>\n",
       "      <td>NaN</td>\n",
       "      <td>0</td>\n",
       "      <td>Transient</td>\n",
       "      <td>75.0</td>\n",
       "      <td>0</td>\n",
       "      <td>0</td>\n",
       "      <td>Check-Out</td>\n",
       "      <td>2015-07-02</td>\n",
       "    </tr>\n",
       "    <tr>\n",
       "      <td>4</td>\n",
       "      <td>Resort Hotel</td>\n",
       "      <td>0</td>\n",
       "      <td>14</td>\n",
       "      <td>2015</td>\n",
       "      <td>July</td>\n",
       "      <td>27</td>\n",
       "      <td>1</td>\n",
       "      <td>0</td>\n",
       "      <td>2</td>\n",
       "      <td>2</td>\n",
       "      <td>...</td>\n",
       "      <td>No Deposit</td>\n",
       "      <td>240.0</td>\n",
       "      <td>NaN</td>\n",
       "      <td>0</td>\n",
       "      <td>Transient</td>\n",
       "      <td>98.0</td>\n",
       "      <td>0</td>\n",
       "      <td>1</td>\n",
       "      <td>Check-Out</td>\n",
       "      <td>2015-07-03</td>\n",
       "    </tr>\n",
       "  </tbody>\n",
       "</table>\n",
       "<p>5 rows × 32 columns</p>\n",
       "</div>"
      ],
      "text/plain": [
       "          hotel  is_canceled  lead_time  arrival_date_year arrival_date_month  \\\n",
       "0  Resort Hotel            0        342               2015               July   \n",
       "1  Resort Hotel            0        737               2015               July   \n",
       "2  Resort Hotel            0          7               2015               July   \n",
       "3  Resort Hotel            0         13               2015               July   \n",
       "4  Resort Hotel            0         14               2015               July   \n",
       "\n",
       "   arrival_date_week_number  arrival_date_day_of_month  \\\n",
       "0                        27                          1   \n",
       "1                        27                          1   \n",
       "2                        27                          1   \n",
       "3                        27                          1   \n",
       "4                        27                          1   \n",
       "\n",
       "   stays_in_weekend_nights  stays_in_week_nights  adults  ...  deposit_type  \\\n",
       "0                        0                     0       2  ...    No Deposit   \n",
       "1                        0                     0       2  ...    No Deposit   \n",
       "2                        0                     1       1  ...    No Deposit   \n",
       "3                        0                     1       1  ...    No Deposit   \n",
       "4                        0                     2       2  ...    No Deposit   \n",
       "\n",
       "   agent company days_in_waiting_list customer_type   adr  \\\n",
       "0    NaN     NaN                    0     Transient   0.0   \n",
       "1    NaN     NaN                    0     Transient   0.0   \n",
       "2    NaN     NaN                    0     Transient  75.0   \n",
       "3  304.0     NaN                    0     Transient  75.0   \n",
       "4  240.0     NaN                    0     Transient  98.0   \n",
       "\n",
       "   required_car_parking_spaces  total_of_special_requests  reservation_status  \\\n",
       "0                            0                          0           Check-Out   \n",
       "1                            0                          0           Check-Out   \n",
       "2                            0                          0           Check-Out   \n",
       "3                            0                          0           Check-Out   \n",
       "4                            0                          1           Check-Out   \n",
       "\n",
       "  reservation_status_date  \n",
       "0              2015-07-01  \n",
       "1              2015-07-01  \n",
       "2              2015-07-02  \n",
       "3              2015-07-02  \n",
       "4              2015-07-03  \n",
       "\n",
       "[5 rows x 32 columns]"
      ]
     },
     "execution_count": 7,
     "metadata": {},
     "output_type": "execute_result"
    }
   ],
   "source": [
    "df.head()"
   ]
  },
  {
   "cell_type": "markdown",
   "metadata": {},
   "source": [
    "### Exercises"
   ]
  },
  {
   "cell_type": "code",
   "execution_count": 1,
   "metadata": {},
   "outputs": [
    {
     "name": "stdout",
     "output_type": "stream",
     "text": [
      "3.16\n"
     ]
    }
   ],
   "source": [
    "# q7\n",
    "print((6-2)/(5*(1+4))+3)"
   ]
  },
  {
   "cell_type": "markdown",
   "metadata": {},
   "source": [
    "## Week 2"
   ]
  },
  {
   "cell_type": "markdown",
   "metadata": {},
   "source": [
    "### 2.2 functions"
   ]
  },
  {
   "cell_type": "code",
   "execution_count": 2,
   "metadata": {},
   "outputs": [],
   "source": [
    "def feature_rec(length, width):\n",
    "    area = length * width\n",
    "    circumference = 2 * (length + width)\n",
    "    return area, circumference"
   ]
  },
  {
   "cell_type": "code",
   "execution_count": 8,
   "metadata": {},
   "outputs": [
    {
     "name": "stdout",
     "output_type": "stream",
     "text": [
      "6 10\n"
     ]
    }
   ],
   "source": [
    "area1, circumference1 = feature_rec(2, 3)\n",
    "print(area1, circumference1)"
   ]
  },
  {
   "cell_type": "code",
   "execution_count": 12,
   "metadata": {},
   "outputs": [
    {
     "name": "stdout",
     "output_type": "stream",
     "text": [
      "(6, 10)\n"
     ]
    },
    {
     "data": {
      "text/plain": [
       "tuple"
      ]
     },
     "execution_count": 12,
     "metadata": {},
     "output_type": "execute_result"
    }
   ],
   "source": [
    "a2 = feature_rec(2, 3)\n",
    "print(a2)\n",
    "type(a2)"
   ]
  },
  {
   "cell_type": "markdown",
   "metadata": {},
   "source": [
    "### 2.3 conditions"
   ]
  },
  {
   "cell_type": "code",
   "execution_count": 4,
   "metadata": {},
   "outputs": [
    {
     "name": "stdout",
     "output_type": "stream",
     "text": [
      "0\n",
      "0.5\n",
      "0.0\n"
     ]
    }
   ],
   "source": [
    "# modulo opeartor\n",
    "print(10 % 2)\n",
    "print(10.5 % 2)\n",
    "print(10 % 2.5)"
   ]
  },
  {
   "cell_type": "markdown",
   "metadata": {},
   "source": [
    "### Exercises"
   ]
  },
  {
   "cell_type": "code",
   "execution_count": 5,
   "metadata": {},
   "outputs": [
    {
     "name": "stdout",
     "output_type": "stream",
     "text": [
      "False\n"
     ]
    }
   ],
   "source": [
    "# exercise 1\n",
    "print(\"big\" > \"small\")"
   ]
  },
  {
   "cell_type": "code",
   "execution_count": 6,
   "metadata": {},
   "outputs": [
    {
     "name": "stdout",
     "output_type": "stream",
     "text": [
      "1\n"
     ]
    }
   ],
   "source": [
    "# exercise 2\n",
    "print(11 % 5)"
   ]
  },
  {
   "cell_type": "code",
   "execution_count": 8,
   "metadata": {},
   "outputs": [
    {
     "name": "stdout",
     "output_type": "stream",
     "text": [
      "1\n",
      "1.25\n"
     ]
    }
   ],
   "source": [
    "print(5 // 4)\n",
    "print(5 / 4)"
   ]
  },
  {
   "cell_type": "markdown",
   "metadata": {},
   "source": [
    "## Week 3"
   ]
  },
  {
   "cell_type": "markdown",
   "metadata": {},
   "source": [
    "### 3.2 for loops"
   ]
  },
  {
   "cell_type": "code",
   "execution_count": 1,
   "metadata": {},
   "outputs": [
    {
     "name": "stdout",
     "output_type": "stream",
     "text": [
      "1\n",
      "2\n",
      "3\n",
      "4\n"
     ]
    }
   ],
   "source": [
    "for i in range(1,5):\n",
    "    print(i)"
   ]
  },
  {
   "cell_type": "code",
   "execution_count": 7,
   "metadata": {},
   "outputs": [
    {
     "name": "stdout",
     "output_type": "stream",
     "text": [
      "1\n",
      "3\n"
     ]
    }
   ],
   "source": [
    "for i in range(1, 5, 2):\n",
    "    print(i)"
   ]
  },
  {
   "cell_type": "markdown",
   "metadata": {},
   "source": [
    "### Exercises"
   ]
  },
  {
   "cell_type": "code",
   "execution_count": 3,
   "metadata": {},
   "outputs": [
    {
     "name": "stdout",
     "output_type": "stream",
     "text": [
      "3\n",
      "2\n",
      "1\n"
     ]
    }
   ],
   "source": [
    "# q4\n",
    "for x in range(3, 0, -1):\n",
    "    print(x)"
   ]
  },
  {
   "cell_type": "code",
   "execution_count": 4,
   "metadata": {},
   "outputs": [
    {
     "name": "stdout",
     "output_type": "stream",
     "text": [
      "Counting up: 1,2,3,4,5,6,7,8,9,10\n",
      "Counting down: 2,1\n",
      "Counting up: 5\n"
     ]
    }
   ],
   "source": [
    "# q5\n",
    "def counter(start, stop):\n",
    "    if start > stop:\n",
    "        return_string = \"Counting down: \"\n",
    "        while start >= stop: # Complete the while loop\n",
    "            return_string = return_string + str(start) # Add the numbers to the \"return_string\"\n",
    "            if start > stop:\n",
    "                return_string += \",\"\n",
    "            start -= 1 # Increment the appropriate variable\n",
    "    else:\n",
    "        return_string = \"Counting up: \"\n",
    "        while start <= stop: # Complete the while loop\n",
    "            return_string = return_string + str(start) # Add the numbers to the \"return_string\"\n",
    "            if start < stop:\n",
    "                return_string += \",\"\n",
    "            start += 1 # Increment the appropriate variable\n",
    "    return return_string\n",
    "\n",
    "\n",
    "print(counter(1, 10)) # Should be \"Counting up: 1,2,3,4,5,6,7,8,9,10\"\n",
    "print(counter(2, 1)) # Should be \"Counting down: 2,1\"\n",
    "print(counter(5, 5)) # Should be \"Counting up: 5\""
   ]
  },
  {
   "cell_type": "code",
   "execution_count": 2,
   "metadata": {},
   "outputs": [
    {
     "name": "stdout",
     "output_type": "stream",
     "text": [
      "1\n",
      "4\n",
      "7\n"
     ]
    }
   ],
   "source": [
    "# q8\n",
    "for x in range(1, 10, 3):\n",
    "    print(x)"
   ]
  },
  {
   "cell_type": "code",
   "execution_count": 5,
   "metadata": {},
   "outputs": [
    {
     "name": "stdout",
     "output_type": "stream",
     "text": [
      "8\n"
     ]
    }
   ],
   "source": [
    "# q9\n",
    "for x in range(10):\n",
    "    for y in range(x):\n",
    "        z = y\n",
    "print(z)"
   ]
  },
  {
   "cell_type": "code",
   "execution_count": 6,
   "metadata": {},
   "outputs": [
    {
     "name": "stdout",
     "output_type": "stream",
     "text": [
      "Possible option:yes\n",
      "Possible option:no\n",
      "Possible option:maybe\n"
     ]
    }
   ],
   "source": [
    "# q10\n",
    "def votes(params):\n",
    "    for vote in params:\n",
    "        print(\"Possible option:\" + vote)\n",
    "votes(['yes', 'no', 'maybe'])"
   ]
  },
  {
   "cell_type": "markdown",
   "metadata": {},
   "source": [
    "## Week 4"
   ]
  },
  {
   "cell_type": "markdown",
   "metadata": {},
   "source": [
    "### 4.1 strings"
   ]
  },
  {
   "cell_type": "code",
   "execution_count": 11,
   "metadata": {},
   "outputs": [
    {
     "name": "stdout",
     "output_type": "stream",
     "text": [
      "neveroddoreven\n",
      "neveroddoreven\n"
     ]
    }
   ],
   "source": [
    "# q1\n",
    "input_string = \"Never Odd or Even\"\n",
    "new_string = \"\"\n",
    "reverse_string = \"\"\n",
    "# Traverse through each letter of the input string\n",
    "for i in input_string:\n",
    "# Add any non-blank letters to the \n",
    "# end of one string, and to the front\n",
    "# of the other string. \n",
    "    if i != \" \":\n",
    "        new_string = new_string + i.lower()\n",
    "        reverse_string = i.lower() + reverse_string\n",
    "print(new_string)\n",
    "print(reverse_string)"
   ]
  },
  {
   "cell_type": "code",
   "execution_count": 10,
   "metadata": {},
   "outputs": [
    {
     "data": {
      "text/plain": [
       "True"
      ]
     },
     "execution_count": 10,
     "metadata": {},
     "output_type": "execute_result"
    }
   ],
   "source": [
    "# q5\n",
    "\"abc\".endswith(\"c\")"
   ]
  },
  {
   "cell_type": "markdown",
   "metadata": {},
   "source": [
    "### 4.2 Lists"
   ]
  },
  {
   "cell_type": "code",
   "execution_count": 13,
   "metadata": {},
   "outputs": [
    {
     "name": "stdout",
     "output_type": "stream",
     "text": [
      "['This', 'is']\n"
     ]
    }
   ],
   "source": [
    "x = [\"This\", \"is\", \"me\"]\n",
    "print(x[:2])"
   ]
  },
  {
   "cell_type": "code",
   "execution_count": 9,
   "metadata": {},
   "outputs": [
    {
     "name": "stdout",
     "output_type": "stream",
     "text": [
      "('banana', 'apple', 'grape')\n",
      "banana apple grape\n"
     ]
    }
   ],
   "source": [
    "# tuples\n",
    "fruit = (\"banana\", \"apple\", \"grape\")\n",
    "print(fruit)\n",
    "fruit1, fruit2, fruit3 = fruit\n",
    "print(fruit1, fruit2, fruit3)"
   ]
  },
  {
   "cell_type": "code",
   "execution_count": 11,
   "metadata": {},
   "outputs": [
    {
     "name": "stdout",
     "output_type": "stream",
     "text": [
      "['a', 'c', 'e', 'g']\n",
      "['Orange', 'Strawberry', 'Peach']\n"
     ]
    }
   ],
   "source": [
    "# a function to return every other elements\n",
    "def skip_elements(elements):\n",
    "    # code goes here\n",
    "    result = []\n",
    "    for i, element in enumerate(elements):\n",
    "        if i % 2 == 0:\n",
    "            result.append(element)\n",
    "    return result\n",
    "\n",
    "print(skip_elements([\"a\", \"b\", \"c\", \"d\", \"e\", \"f\", \"g\"])) # Should be ['a', 'c', 'e', 'g']\n",
    "print(skip_elements(['Orange', 'Pineapple', 'Strawberry', 'Kiwi', 'Peach'])) # Should be ['Orange', 'Strawberry', 'Peach']"
   ]
  },
  {
   "cell_type": "code",
   "execution_count": null,
   "metadata": {},
   "outputs": [],
   "source": [
    "# q1\n",
    "filenames = [\"program.c\", \"stdio.hpp\", \"sample.hpp\", \"a.out\", \"math.hpp\", \"hpp.out\"]\n",
    "# Generate newfilenames as a list containing the new filenames\n",
    "# using as many lines of code as your chosen method requires.\n",
    "newfilenames = []\n",
    "for filename in filenames:\n",
    "    if \".hpp\" in filename:\n",
    "        filename = filename[:filename.index(\".hpp\")] + \".h\"\n",
    "    newfilenames.append(filename)\n",
    "\n",
    "print(newfilenames) \n",
    "# Should be [\"program.c\", \"stdio.h\", \"sample.h\", \"a.out\", \"math.h\", \"hpp.out\"]"
   ]
  },
  {
   "cell_type": "code",
   "execution_count": 25,
   "metadata": {},
   "outputs": [
    {
     "name": "stdout",
     "output_type": "stream",
     "text": [
      "ellohay owhay reaay ouyay\n",
      "rogrammingpay niay ythonpay siay unfay\n"
     ]
    }
   ],
   "source": [
    "# q2\n",
    "# Question 2\n",
    "# Create a function that turns text into pig latin. Pig latin is a simple text transformation that modifies each word by: \n",
    "# moving the first character to the end of each word;\n",
    "# then appending the letters \"ay\" to the end of each word. \n",
    "def pig_latin(text):\n",
    "  say = \"ay\"\n",
    "  # Separate the text into words\n",
    "  words = text.split()\n",
    "  pig_latin_ls = []\n",
    "  for word in words:\n",
    "    # Create the pig latin word and add it to the list\n",
    "    pig_latin_word = word[1:] + word[0] + say\n",
    "    pig_latin_ls.append(pig_latin_word)\n",
    "  # Turn the list back into a phrase\n",
    "  pig_latin_text = \" \".join(str(x) for x in pig_latin_ls)\n",
    "  return pig_latin_text\n",
    "    \n",
    "print(pig_latin(\"hello how are you\")) # Should be \"ellohay owhay reaay ouyay\"\n",
    "print(pig_latin(\"programming in python is fun\")) # Should be \"rogrammingpay niay ythonpay siay unfay\""
   ]
  },
  {
   "cell_type": "code",
   "execution_count": 23,
   "metadata": {},
   "outputs": [],
   "source": [
    "# q5\n",
    "def biograpy_list(people):\n",
    "    # Iterate over each \"person\" in the given \"people\" list of tuples. \n",
    "    for person in people:\n",
    "\n",
    "        # Separate the 3 items in each tuple into 3 variables:\n",
    "        # \"name\", \"age\", and \"profession\"   \n",
    "        name, age, profession = person\n",
    "\n",
    "        # Format the required sentence and place the 3 variables \n",
    "        # in the correct placeholders using the .format() method.\n",
    "        print(\"{} is {} years old and works as a {}\".format(name, age, profession))"
   ]
  },
  {
   "cell_type": "code",
   "execution_count": 24,
   "metadata": {},
   "outputs": [
    {
     "name": "stdout",
     "output_type": "stream",
     "text": [
      "Ira is 30 years old and works as a Chef\n",
      "Raj is 35 years old and works as a Lawyer\n",
      "Maria is 25 years old and works as a Engineer\n"
     ]
    }
   ],
   "source": [
    "biograpy_list([('Ira', 30, 'Chef'), ('Raj', 35, 'Lawyer'), ('Maria', 25, 'Engineer')])"
   ]
  },
  {
   "cell_type": "markdown",
   "metadata": {},
   "source": [
    "### 4.3 Dictionaries"
   ]
  },
  {
   "cell_type": "code",
   "execution_count": 8,
   "metadata": {},
   "outputs": [
    {
     "name": "stdout",
     "output_type": "stream",
     "text": [
      "{'admin': ['local', 'public', 'administrator'], 'userA': ['local'], 'userB': ['public']}\n"
     ]
    }
   ],
   "source": [
    "# q2\n",
    "# The groups_per_user function receives a dictionary, \n",
    "# which contains group names with the list of users. \n",
    "# Users can belong to multiple groups. \n",
    "# Fill in the blanks to return a dictionary with the users as keys and a list of their groups as values. \n",
    "def groups_per_user(group_dictionary):\n",
    "\tuser_groups = {}\n",
    "\t# Go through group_dictionary\n",
    "\tfor group, users in group_dictionary.items():\n",
    "\t\t# Now go through the users in the group\n",
    "\t\tfor user in users:\n",
    "\t\t\t# Now add the group to the the list of\n",
    "\t\t\t# groups for this user, creating the entry\n",
    "\t\t\t# in the dictionary if necessary\n",
    "\t\t\tif not user in user_groups:\n",
    "\t\t\t\tuser_groups[user] = [group]\n",
    "\t\t\telse:\n",
    "\t\t\t\tuser_groups[user].append(group)\n",
    "\n",
    "\treturn(user_groups)\n",
    "\n",
    "print(groups_per_user({\"local\": [\"admin\", \"userA\"],\n",
    "\t\t\"public\":  [\"admin\", \"userB\"],\n",
    "\t\t\"administrator\": [\"admin\"] }))"
   ]
  },
  {
   "cell_type": "code",
   "execution_count": 4,
   "metadata": {},
   "outputs": [
    {
     "name": "stdout",
     "output_type": "stream",
     "text": [
      "{'shirt': ['red', 'blue', 'white'], 'jeans': ['white'], 'scarf': ['yellow'], 'socks': ['black', 'brown']}\n"
     ]
    }
   ],
   "source": [
    "# q3\n",
    "wardrobe = {'shirt': ['red', 'blue', 'white'], 'jeans': ['blue', 'black']}\n",
    "new_items = {'jeans': ['white'], 'scarf': ['yellow'], 'socks': ['black', 'brown']}\n",
    "wardrobe.update(new_items)\n",
    "print(wardrobe)"
   ]
  },
  {
   "cell_type": "code",
   "execution_count": 6,
   "metadata": {},
   "outputs": [
    {
     "data": {
      "text/plain": [
       "False"
      ]
     },
     "execution_count": 6,
     "metadata": {},
     "output_type": "execute_result"
    }
   ],
   "source": [
    "not 'jeans' in wardrobe"
   ]
  },
  {
   "cell_type": "code",
   "execution_count": 7,
   "metadata": {},
   "outputs": [
    {
     "name": "stdout",
     "output_type": "stream",
     "text": [
      "28.44\n"
     ]
    }
   ],
   "source": [
    "# q5\n",
    "# The add_prices function returns the total price of all of the groceries in the dictionary. \n",
    "# Fill in the blanks to complete this function.\n",
    "def add_prices(basket):\n",
    "    # Initialize the variable that will be used for the calculation\n",
    "    total = 0\n",
    "    # Iterate through the dictionary items\n",
    "    for price in basket.values():\n",
    "        # Add each price to the total calculation\n",
    "        # Hint: how do you access the values of\n",
    "        # dictionary items?\n",
    "        total += price\n",
    "    # Limit the return value to 2 decimal places\n",
    "    return round(total, 2)  \n",
    "\n",
    "groceries = {\"bananas\": 1.56, \"apples\": 2.50, \"oranges\": 0.99, \"bread\": 4.59, \n",
    "             \"coffee\": 6.99, \"milk\": 3.39, \"eggs\": 2.98, \"cheese\": 5.44}\n",
    "\n",
    "print(add_prices(groceries)) # Should print 28.44"
   ]
  },
  {
   "cell_type": "markdown",
   "metadata": {},
   "source": [
    "### 4.4 Exercises"
   ]
  },
  {
   "cell_type": "code",
   "execution_count": 2,
   "metadata": {},
   "outputs": [
    {
     "name": "stdout",
     "output_type": "stream",
     "text": [
      "['red', 'white', 'yellow', 'blue']\n"
     ]
    }
   ],
   "source": [
    "# q9\n",
    "colors = [\"red\", \"white\", \"blue\"]\n",
    "colors.insert(2, \"yellow\")\n",
    "print(colors)"
   ]
  },
  {
   "cell_type": "code",
   "execution_count": 3,
   "metadata": {},
   "outputs": [
    {
     "name": "stdout",
     "output_type": "stream",
     "text": [
      "dict_keys(['router', 'localhost', 'google'])\n"
     ]
    }
   ],
   "source": [
    "# q10\n",
    "host_addresses = {\"router\": \"192.168.1.1\", \"localhost\": \"127.0.0.1\", \"google\": \"8.8.8.8\"}\n",
    "print(host_addresses.keys())"
   ]
  },
  {
   "cell_type": "code",
   "execution_count": 4,
   "metadata": {},
   "outputs": [
    {
     "data": {
      "text/plain": [
       "True"
      ]
     },
     "execution_count": 4,
     "metadata": {},
     "output_type": "execute_result"
    }
   ],
   "source": [
    "# q2\n",
    "\"nice\" in \"Have a nice day!\""
   ]
  },
  {
   "cell_type": "code",
   "execution_count": 10,
   "metadata": {},
   "outputs": [
    {
     "name": "stdout",
     "output_type": "stream",
     "text": [
      "['Minna', 'Carol', 'Gunnar', 'Malena', 'Oakley', 'Jocelyn', 'Benjamin', 'Chika', 'Alma']\n"
     ]
    }
   ],
   "source": [
    "# q3\n",
    "def combine_lists(list1, list2):\n",
    "  combined_list = [] # Initialize an empty list variable\n",
    "  list1.reverse() # Reverse the order of \"list1\"\n",
    "  list2.extend(list1) # Combine the two lists \n",
    "  combined_list = list2\n",
    "  return combined_list  \n",
    "  \n",
    "Jaimes_list = [\"Alma\", \"Chika\", \"Benjamin\", \"Jocelyn\", \"Oakley\"]\n",
    "Drews_list = [\"Minna\", \"Carol\", \"Gunnar\", \"Malena\"]\n",
    "\n",
    "\n",
    "print(combine_lists(Jaimes_list, Drews_list))\n",
    "# Should print ['Minna', 'Carol', 'Gunnar', 'Malena', 'Oakley', 'Jocelyn', 'Benjamin', 'Chika', 'Alma']\n"
   ]
  },
  {
   "cell_type": "code",
   "execution_count": 12,
   "metadata": {},
   "outputs": [
    {
     "name": "stdout",
     "output_type": "stream",
     "text": [
      "2\n",
      "3\n",
      "4\n"
     ]
    }
   ],
   "source": [
    "# q4\n",
    "for x in range(2, 5):\n",
    "    print(x)"
   ]
  },
  {
   "cell_type": "code",
   "execution_count": 18,
   "metadata": {},
   "outputs": [
    {
     "name": "stdout",
     "output_type": "stream",
     "text": [
      "dict_keys(['Adam', 'Brenda', 'David', 'Jose', 'Charlotte', 'Terry', 'Robert'])\n",
      "{'d': 6, 'c': 8, 'a': 10}\n"
     ]
    }
   ],
   "source": [
    "# q6\n",
    "guest1 = { \"Adam\":2, \"Brenda\":3, \"David\":1, \"Jose\":3, \"Charlotte\":2, \"Terry\":1, \"Robert\":4}\n",
    "print(guest1.keys())\n",
    "\"Adam\" in guest1.keys()\n",
    "\n",
    "dict1 = {'a': 10, 'c': 8}\n",
    "dict2 = {'d': 6, 'c': 4}\n",
    "dict2.update(dict1)\n",
    "print(dict2)"
   ]
  },
  {
   "cell_type": "code",
   "execution_count": 23,
   "metadata": {},
   "outputs": [
    {
     "name": "stdout",
     "output_type": "stream",
     "text": [
      "t is a letter:  True\n",
      "h is a letter:  True\n",
      "i is a letter:  True\n",
      "s is a letter:  True\n",
      "  is a letter:  False\n",
      "i is a letter:  True\n",
      "s is a letter:  True\n",
      "  is a letter:  False\n",
      "a is a letter:  True\n",
      "  is a letter:  False\n",
      "s is a letter:  True\n",
      "e is a letter:  True\n",
      "n is a letter:  True\n",
      "t is a letter:  True\n",
      "e is a letter:  True\n",
      "n is a letter:  True\n",
      "c is a letter:  True\n",
      "e is a letter:  True\n",
      ". is a letter:  False\n"
     ]
    }
   ],
   "source": [
    "# q7\n",
    "text = \"This is a sentence.\"\n",
    "for letter in text.lower():\n",
    "    print(letter + ' is a letter: ', letter.isalpha())"
   ]
  },
  {
   "cell_type": "code",
   "execution_count": 5,
   "metadata": {},
   "outputs": [
    {
     "data": {
      "text/plain": [
       "65"
      ]
     },
     "execution_count": 5,
     "metadata": {},
     "output_type": "execute_result"
    }
   ],
   "source": [
    "# q10\n",
    "speed_limits = {\"street\": 35, \"highway\": 65, \"school\": 15}\n",
    "speed_limits[\"highway\"]"
   ]
  },
  {
   "cell_type": "code",
   "execution_count": 7,
   "metadata": {},
   "outputs": [
    {
     "name": "stdout",
     "output_type": "stream",
     "text": [
      "['red', 'white', 'yellow', 'blue']\n"
     ]
    }
   ],
   "source": [
    "# q9\n",
    "colors = [\"red\", \"white\", \"blue\"]\n",
    "colors.insert(2, \"yellow\")\n",
    "print(colors)"
   ]
  },
  {
   "cell_type": "code",
   "execution_count": 8,
   "metadata": {},
   "outputs": [
    {
     "name": "stdout",
     "output_type": "stream",
     "text": [
      "pop\n",
      "t\n",
      "us\n"
     ]
    }
   ],
   "source": [
    "# q8\n",
    "animal = \"Hippopotamus\"\n",
    "print(animal[3:6])\n",
    "print(animal[-5])\n",
    "print(animal[10:])"
   ]
  },
  {
   "cell_type": "code",
   "execution_count": 9,
   "metadata": {},
   "outputs": [
    {
     "name": "stdout",
     "output_type": "stream",
     "text": [
      "1\n",
      "21\n",
      "6\n",
      "0\n"
     ]
    }
   ],
   "source": [
    "# q1\n",
    "def confirm_length(word):\n",
    "\n",
    "    # Complete the condition statement using a string operation. \n",
    "    if len(word) > 0:\n",
    "        # Complete the return statement using a string operation.\n",
    "        return len(word) \n",
    "    else:\n",
    "        return 0\n",
    "\n",
    "\n",
    "print(confirm_length(\"a\")) # Should print 1\n",
    "print(confirm_length(\"This is a long string\")) # Should print 21\n",
    "print(confirm_length(\"Monday\")) # Should print 6\n",
    "print(confirm_length(\"\")) # Should print 0"
   ]
  },
  {
   "cell_type": "code",
   "execution_count": 11,
   "metadata": {},
   "outputs": [
    {
     "name": "stdout",
     "output_type": "stream",
     "text": [
      "[4, 5]\n",
      "[3, 4, 5, 6, 7]\n",
      "[2, 3, 4, 5, 6, 7, 8, 9, 10, 11, 12]\n"
     ]
    }
   ],
   "source": [
    "# q4\n",
    "def increments(start, end):\n",
    "    return [x+2 for x in range(start, end+1) ] # Create the required list comprehension.\n",
    "\n",
    "\n",
    "print(increments(2, 3)) # Should print [4, 5]\n",
    "print(increments(1, 5)) # Should print [3, 4, 5, 6, 7]\n",
    "print(increments(0, 10)) # Should print [2, 3, 4, 5, 6, 7, 8, 9, 10, 11, 12]"
   ]
  },
  {
   "cell_type": "code",
   "execution_count": 12,
   "metadata": {},
   "outputs": [
    {
     "name": "stdout",
     "output_type": "stream",
     "text": [
      "['Kenya', 'Egypt', 'Nigeria']\n",
      "['China', 'India', 'Thailand']\n",
      "['Ecuador', 'Bolivia', 'Brazil']\n",
      "\n"
     ]
    }
   ],
   "source": [
    "# q5\n",
    "def countries(countries_dict):\n",
    "    result = \"\"\n",
    "    # Complete the for loop to iterate through the key and value items \n",
    "    # in the dictionary.\n",
    "    for continent, country in countries_dict.items():\n",
    "        # Use a string method to format the required string.\n",
    "        result = result + str(country) + \"\\n\"\n",
    "    return result\n",
    "\n",
    "print(countries({\"Africa\": [\"Kenya\", \"Egypt\", \"Nigeria\"], \"Asia\":[\"China\", \"India\", \"Thailand\"], \"South America\": [\"Ecuador\", \"Bolivia\", \"Brazil\"]}))\n",
    "\n",
    "# Should print:\n",
    "# ['Kenya', 'Egypt', 'Nigeria']\n",
    "# ['China', 'India', 'Thailand']\n",
    "# ['Ecuador', 'Bolivia', 'Brazil']"
   ]
  },
  {
   "cell_type": "code",
   "execution_count": 13,
   "metadata": {},
   "outputs": [
    {
     "name": "stdout",
     "output_type": "stream",
     "text": [
      "{'Adam': 0, 'Camila': 0, 'David': 0, 'Jamal': 0, 'Charley': 0, 'Titus': 0, 'Raj': 0, 'Noemi': 0, 'Sakira': 0, 'Chidi': 0}\n"
     ]
    }
   ],
   "source": [
    "# q6\n",
    "def setup_guests(guest_list):\n",
    "    # loop over the guest list and add each guest to the dictionary with\n",
    "    # an initial value of 0\n",
    "    result = {} # Initialize a new dictionary \n",
    "    for guest in guest_list: # Iterate over the elements in the list \n",
    "        result[guest] = 0 # Add each list element to the dictionary as a key with \n",
    "            # the starting value of 0\n",
    "    return result\n",
    "\n",
    "guests = [\"Adam\",\"Camila\",\"David\",\"Jamal\",\"Charley\",\"Titus\",\"Raj\",\"Noemi\",\"Sakira\",\"Chidi\"]\n",
    "\n",
    "print(setup_guests(guests))\n",
    "# Should print {'Adam': 0, 'Camila': 0, 'David': 0, 'Jamal': 0, 'Charley': 0, 'Titus': 0, 'Raj': 0, 'Noemi': 0, 'Sakira': 0, 'Chidi': 0}"
   ]
  },
  {
   "cell_type": "code",
   "execution_count": 15,
   "metadata": {},
   "outputs": [
    {
     "data": {
      "text/plain": [
       "True"
      ]
     },
     "execution_count": 15,
     "metadata": {},
     "output_type": "execute_result"
    }
   ],
   "source": [
    "# q7\n",
    "\"a\" not in [\"aa\", \"b\"]"
   ]
  },
  {
   "cell_type": "code",
   "execution_count": 16,
   "metadata": {},
   "outputs": [
    {
     "name": "stdout",
     "output_type": "stream",
     "text": [
      "{'1': 7, '0': 6}\n",
      "{'2': 2, '4': 1}\n",
      "{}\n",
      "{'5': 2}\n"
     ]
    }
   ],
   "source": [
    "def count_numbers(text):\n",
    "  # Initialize a new dictionary.\n",
    "  dictionary = {} \n",
    "  # Complete the for loop to iterate through each \"text\" character.\n",
    "  for letter in text:\n",
    "    # Complete the if-statement using a string method to check if the\n",
    "    # character is a number.\n",
    "    if letter.isnumeric():\n",
    "      # Complete the if-statement using a logical operator to check if \n",
    "      # the number is not already in the dictionary.\n",
    "      if letter not in dictionary.keys():\n",
    "           # Use a dictionary operation to add the number as a key\n",
    "           # and set the initial count value to zero.\n",
    "           dictionary[letter] = 0\n",
    "      # Use a dictionary operation to increment the number count value \n",
    "      # for the existing key.\n",
    "      dictionary[letter] += 1\n",
    "  return dictionary\n",
    "\n",
    "print(count_numbers(\"1001000111101\"))\n",
    "# Should be {'1': 7, '0': 6}\n",
    "\n",
    "print(count_numbers(\"Math is fun! 2+2=4\"))\n",
    "# Should be {'2': 2, '4': 1}\n",
    "\n",
    "print(count_numbers(\"This is a sentence.\"))\n",
    "# Should be {}\n",
    "\n",
    "print(count_numbers(\"55 North Center Drive\"))\n",
    "# Should be {'5': 2}"
   ]
  },
  {
   "cell_type": "markdown",
   "metadata": {},
   "source": [
    "## Week 5 object oriented programming"
   ]
  },
  {
   "cell_type": "markdown",
   "metadata": {},
   "source": [
    "### 5.1"
   ]
  },
  {
   "cell_type": "markdown",
   "metadata": {},
   "source": [
    "Practice quizes"
   ]
  },
  {
   "cell_type": "code",
   "execution_count": 2,
   "metadata": {},
   "outputs": [
    {
     "name": "stdout",
     "output_type": "stream",
     "text": [
      "Johanna has 2 apples and Martin has 1 apples\n",
      "Johanna has 2 ideas and Martin has 2 ideas\n"
     ]
    }
   ],
   "source": [
    "# q2\n",
    "# “If you have an apple and I have an apple and we exchange these apples then\n",
    "# you and I will still each have one apple. But if you have an idea and I have\n",
    "# an idea and we exchange these ideas, then each of us will have two ideas.”\n",
    "# George Bernard Shaw\n",
    "\n",
    "class Person:\n",
    "    apples = 0\n",
    "    ideas = 0\n",
    "\n",
    "johanna = Person()\n",
    "johanna.apples = 1\n",
    "johanna.ideas = 1\n",
    "\n",
    "martin = Person()\n",
    "martin.apples = 2\n",
    "martin.ideas = 1\n",
    "\n",
    "def exchange_apples(you, me):\n",
    "#Here, despite G.B. Shaw's quote, our characters have started with       \n",
    "#different amounts of apples so we can better observe the results. \n",
    "#We're going to have Martin and Johanna exchange ALL their apples with #one another.\n",
    "#Hint: how would you switch values of variables, \n",
    "#so that \"you\" and \"me\" will exchange ALL their apples with one another?\n",
    "#Do you need a temporary variable to store one of the values?\n",
    "#You may need more than one line of code to do that, which is OK. \n",
    "    you_apple_ori = you.apples\n",
    "    me_apple_ori = me.apples\n",
    "    you.apples = me_apple_ori\n",
    "    me.apples = you_apple_ori\n",
    "    return you.apples, me.apples\n",
    "    \n",
    "def exchange_ideas(you, me):\n",
    "    #\"you\" and \"me\" will share our ideas with one another.\n",
    "    #What operations need to be performed, so that each object receives\n",
    "    #the shared number of ideas?\n",
    "    #Hint: how would you assign the total number of ideas to \n",
    "    #each idea attribute? Do you need a temporary variable to store \n",
    "    #the sum of ideas, or can you find another way? \n",
    "    #Use as many lines of code as you need here.\n",
    "    you_idea_ori = you.ideas\n",
    "    me_idea_ori = me.ideas\n",
    "\n",
    "    you.ideas = you_idea_ori + me_idea_ori\n",
    "    me.ideas =  you_idea_ori + me_idea_ori\n",
    "    return you.ideas, me.ideas\n",
    "\n",
    "exchange_apples(johanna, martin)\n",
    "print(\"Johanna has {} apples and Martin has {} apples\".format(johanna.apples, martin.apples))\n",
    "exchange_ideas(johanna, martin)\n",
    "print(\"Johanna has {} ideas and Martin has {} ideas\".format(johanna.ideas, martin.ideas))"
   ]
  },
  {
   "cell_type": "code",
   "execution_count": null,
   "metadata": {},
   "outputs": [],
   "source": []
  }
 ],
 "metadata": {
  "kernelspec": {
   "display_name": "Python 3 (ipykernel)",
   "language": "python",
   "name": "python3"
  },
  "language_info": {
   "codemirror_mode": {
    "name": "ipython",
    "version": 3
   },
   "file_extension": ".py",
   "mimetype": "text/x-python",
   "name": "python",
   "nbconvert_exporter": "python",
   "pygments_lexer": "ipython3",
   "version": "3.9.13"
  }
 },
 "nbformat": 4,
 "nbformat_minor": 2
}
