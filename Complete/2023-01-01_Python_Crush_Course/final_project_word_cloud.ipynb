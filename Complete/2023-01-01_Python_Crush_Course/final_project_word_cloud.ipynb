{
 "cells": [
  {
   "cell_type": "markdown",
   "id": "25dacdc1",
   "metadata": {},
   "source": [
    "## Final project"
   ]
  },
  {
   "cell_type": "markdown",
   "id": "1977469e",
   "metadata": {},
   "source": [
    "### Create a word cloud"
   ]
  },
  {
   "cell_type": "code",
   "execution_count": 4,
   "id": "5704f4e5",
   "metadata": {},
   "outputs": [],
   "source": [
    "import re"
   ]
  },
  {
   "cell_type": "code",
   "execution_count": 6,
   "id": "b656cdb4",
   "metadata": {},
   "outputs": [
    {
     "data": {
      "text/plain": [
       "'This is a sentence'"
      ]
     },
     "execution_count": 6,
     "metadata": {},
     "output_type": "execute_result"
    }
   ],
   "source": [
    "# remove punctuation\n",
    "a = \"This is a sentence.\"\n",
    "re.sub(r'[^\\w\\s]', '', a)"
   ]
  },
  {
   "cell_type": "code",
   "execution_count": null,
   "id": "f07dbb55",
   "metadata": {},
   "outputs": [],
   "source": []
  }
 ],
 "metadata": {
  "kernelspec": {
   "display_name": "Python 3 (ipykernel)",
   "language": "python",
   "name": "python3"
  },
  "language_info": {
   "codemirror_mode": {
    "name": "ipython",
    "version": 3
   },
   "file_extension": ".py",
   "mimetype": "text/x-python",
   "name": "python",
   "nbconvert_exporter": "python",
   "pygments_lexer": "ipython3",
   "version": "3.9.13"
  }
 },
 "nbformat": 4,
 "nbformat_minor": 5
}
