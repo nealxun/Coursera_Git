{
 "cells": [
  {
   "attachments": {},
   "cell_type": "markdown",
   "metadata": {},
   "source": [
    "# Using Python to Interact with the Operating System"
   ]
  },
  {
   "cell_type": "code",
   "execution_count": 2,
   "metadata": {},
   "outputs": [],
   "source": [
    "%matplotlib inline\n",
    "import os\n",
    "import numpy as np\n",
    "import pandas as pd\n",
    "import matplotlib.pyplot as plt\n",
    "import sys\n",
    "import re"
   ]
  },
  {
   "attachments": {},
   "cell_type": "markdown",
   "metadata": {},
   "source": [
    "## Week 2 managing files with Python"
   ]
  },
  {
   "attachments": {},
   "cell_type": "markdown",
   "metadata": {},
   "source": [
    "read and write csv files exercise"
   ]
  },
  {
   "cell_type": "code",
   "execution_count": 1,
   "metadata": {},
   "outputs": [
    {
     "name": "stdout",
     "output_type": "stream",
     "text": [
      "a pink carnation is annual\n",
      "a yellow daffodil is perennial\n",
      "a blue iris is perennial\n",
      "a red poinsettia is perennial\n",
      "a yellow sunflower is annual\n",
      "\n"
     ]
    }
   ],
   "source": [
    "# q1\n",
    "import os\n",
    "import csv\n",
    "\n",
    "# Create a file with data in it\n",
    "def create_file(filename):\n",
    "  with open(filename, \"w\") as file:\n",
    "    file.write(\"name,color,type\\n\")\n",
    "    file.write(\"carnation,pink,annual\\n\")\n",
    "    file.write(\"daffodil,yellow,perennial\\n\")\n",
    "    file.write(\"iris,blue,perennial\\n\")\n",
    "    file.write(\"poinsettia,red,perennial\\n\")\n",
    "    file.write(\"sunflower,yellow,annual\\n\")\n",
    "\n",
    "\n",
    "# Read the file contents and format the information about each row\n",
    "def contents_of_file(filename):\n",
    "  return_string = \"\"\n",
    "\n",
    "  # Call the function to create the file \n",
    "  create_file(filename)\n",
    "\n",
    "  # Open the file\n",
    "  with open(filename) as file:\n",
    "    # Read the rows of the file into a dictionary\n",
    "    reader = csv.DictReader(file)\n",
    "    # Process each item of the dictionary\n",
    "    for row in reader:\n",
    "      return_string += \"a {} {} is {}\\n\".format(row[\"color\"], row[\"name\"], row[\"type\"])\n",
    "  return return_string\n",
    "\n",
    "\n",
    "#Call the function\n",
    "print(contents_of_file(\"flowers.csv\"))"
   ]
  },
  {
   "cell_type": "code",
   "execution_count": null,
   "metadata": {},
   "outputs": [],
   "source": [
    "# q2\n",
    "import os\n",
    "import csv\n",
    "\n",
    "# Create a file with data in it\n",
    "def create_file(filename):\n",
    "  with open(filename, \"w\") as file:\n",
    "    file.write(\"name,color,type\\n\")\n",
    "    file.write(\"carnation,pink,annual\\n\")\n",
    "    file.write(\"daffodil,yellow,perennial\\n\")\n",
    "    file.write(\"iris,blue,perennial\\n\")\n",
    "    file.write(\"poinsettia,red,perennial\\n\")\n",
    "    file.write(\"sunflower,yellow,annual\\n\")\n",
    "\n",
    "# Read the file contents and format the information about each row\n",
    "def contents_of_file(filename):\n",
    "  return_string = \"\"\n",
    "\n",
    "  # Call the function to create the file \n",
    "  create_file(filename)\n",
    "\n",
    "  # Open the file\n",
    "  with open(filename) as file:\n",
    "    # Read the rows of the file\n",
    "    rows = csv.reader(file)\n",
    "    # Process each row\n",
    "    linecount = 0\n",
    "    for row in rows:\n",
    "      flower, color, freq = row\n",
    "      # Format the return string for data rows only\n",
    "      if linecount == 0:\n",
    "        linecount += 1\n",
    "      else:\n",
    "        return_string += \"a {} {} is {}\\n\".format(color, flower, freq)\n",
    "        linecount += 1\n",
    "  return return_string\n",
    "\n",
    "#Call the function\n",
    "print(contents_of_file(\"flowers.csv\"))"
   ]
  },
  {
   "attachments": {},
   "cell_type": "markdown",
   "metadata": {},
   "source": [
    "## Week 3 regular expressions"
   ]
  },
  {
   "attachments": {},
   "cell_type": "markdown",
   "metadata": {},
   "source": [
    "### 3.1 basic regular expressions"
   ]
  },
  {
   "cell_type": "code",
   "execution_count": 2,
   "metadata": {},
   "outputs": [],
   "source": [
    "import re"
   ]
  },
  {
   "cell_type": "code",
   "execution_count": 5,
   "metadata": {},
   "outputs": [
    {
     "name": "stdout",
     "output_type": "stream",
     "text": [
      "<re.Match object; span=(2, 5), match='aza'>\n",
      "<re.Match object; span=(3, 6), match='aza'>\n"
     ]
    }
   ],
   "source": [
    "print(re.search(r\"aza\", \"ceazar\"))\n",
    "print(re.search(r\"aza\", \"cewazaraza\"))"
   ]
  },
  {
   "cell_type": "code",
   "execution_count": 8,
   "metadata": {},
   "outputs": [
    {
     "name": "stdout",
     "output_type": "stream",
     "text": [
      "<re.Match object; span=(0, 6), match='Python'>\n",
      "<re.Match object; span=(0, 17), match='Python Programmin'>\n"
     ]
    }
   ],
   "source": [
    "print(re.search(r\"Py[a-z]*n\", \"Python Programming\"))\n",
    "print(re.search(r\"Py[a-zA-Z ]*n\", \"Python Programming\"))"
   ]
  },
  {
   "attachments": {},
   "cell_type": "markdown",
   "metadata": {},
   "source": [
    " Exercises"
   ]
  },
  {
   "attachments": {},
   "cell_type": "markdown",
   "metadata": {},
   "source": [
    "q1 The check_web_address function checks if the text passed qualifies as a top-level web address, meaning that it contains alphanumeric characters (which includes letters, numbers, and underscores), as well as periods, dashes, and a plus sign, followed by a period and a character-only top-level domain such as \".com\", \".info\", \".edu\", etc. Fill in the regular expression to do that, using escape characters, wildcards, repetition qualifiers, beginning and end-of-line characters, and character classes."
   ]
  },
  {
   "cell_type": "code",
   "execution_count": 11,
   "metadata": {},
   "outputs": [],
   "source": [
    "import re\n",
    "def check_web_address(text):\n",
    "  pattern = r\"[\\w\\.\\-\\+]+[\\.][a-zA-Z]+$\"\n",
    "  result = re.search(pattern, text)\n",
    "  return result != None"
   ]
  },
  {
   "cell_type": "code",
   "execution_count": 12,
   "metadata": {},
   "outputs": [
    {
     "name": "stdout",
     "output_type": "stream",
     "text": [
      "True\n"
     ]
    }
   ],
   "source": [
    "print(check_web_address(\"gmail.com\"))"
   ]
  },
  {
   "attachments": {},
   "cell_type": "markdown",
   "metadata": {},
   "source": [
    "q2 The check_time function checks for the time format of a 12-hour clock, as follows: the hour is between 1 and 12, with no leading zero, followed by a colon, then minutes between 00 and 59, then an optional space, and then AM or PM, in upper or lower case. Fill in the regular expression to do that. How many of the concepts that you just learned can you use here?"
   ]
  },
  {
   "cell_type": "code",
   "execution_count": 13,
   "metadata": {},
   "outputs": [
    {
     "name": "stdout",
     "output_type": "stream",
     "text": [
      "True\n",
      "True\n",
      "False\n",
      "False\n"
     ]
    }
   ],
   "source": [
    "import re\n",
    "def check_time(text):\n",
    "  pattern = r\"[1-9][0-2]*:*[0-5][0-9] *(am|pm|AM|PM)\"\n",
    "  result = re.search(pattern, text)\n",
    "  return result != None\n",
    "\n",
    "print(check_time(\"12:45pm\")) # True\n",
    "print(check_time(\"9:59 AM\")) # True\n",
    "print(check_time(\"6:60am\")) # False\n",
    "print(check_time(\"five o'clock\")) # False"
   ]
  },
  {
   "attachments": {},
   "cell_type": "markdown",
   "metadata": {},
   "source": [
    "q3 The contains_acronym function checks the text for the presence of 2 or more characters or digits surrounded by parentheses, with at least the first character in uppercase (if it's a letter), returning True if the condition is met, or False otherwise. For example, \"Instant messaging (IM) is a set of communication technologies used for text-based communication\" should return True since (IM) satisfies the match conditions.\" Fill in the regular expression in this function: "
   ]
  },
  {
   "cell_type": "code",
   "execution_count": 14,
   "metadata": {},
   "outputs": [
    {
     "name": "stdout",
     "output_type": "stream",
     "text": [
      "True\n",
      "True\n",
      "False\n",
      "True\n",
      "True\n"
     ]
    }
   ],
   "source": [
    "import re\n",
    "def contains_acronym(text):\n",
    "  pattern = r\"\\([A-Z0-9][a-zA-Z0-9]+\\)\"\n",
    "  result = re.search(pattern, text)\n",
    "  return result != None\n",
    "\n",
    "print(contains_acronym(\"Instant messaging (IM) is a set of communication technologies used for text-based communication\")) # True\n",
    "print(contains_acronym(\"American Standard Code for Information Interchange (ASCII) is a character encoding standard for electronic communication\")) # True\n",
    "print(contains_acronym(\"Please do NOT enter without permission!\")) # False\n",
    "print(contains_acronym(\"PostScript is a fourth-generation programming language (4GL)\")) # True\n",
    "print(contains_acronym(\"Have fun using a self-contained underwater breathing apparatus (Scuba)!\")) # True"
   ]
  },
  {
   "attachments": {},
   "cell_type": "markdown",
   "metadata": {},
   "source": [
    "q6 Fill in the code to check if the text passed includes a possible U.S. zip code, formatted as follows: exactly 5 digits, and sometimes, but not always, followed by a dash with 4 more digits. The zip code needs to be preceded by at least one space, and cannot be at the start of the text."
   ]
  },
  {
   "cell_type": "code",
   "execution_count": 15,
   "metadata": {},
   "outputs": [
    {
     "name": "stdout",
     "output_type": "stream",
     "text": [
      "True\n",
      "False\n",
      "True\n",
      "False\n"
     ]
    }
   ],
   "source": [
    "import re\n",
    "def check_zip_code (text):\n",
    "  result = re.search(r\"( )[0-9]{5}(\\-[0-9]{4})*\", text)\n",
    "  return result != None\n",
    "\n",
    "print(check_zip_code(\"The zip codes for New York are 10001 thru 11104.\")) # True\n",
    "print(check_zip_code(\"90210 is a TV show\")) # False\n",
    "print(check_zip_code(\"Their address is: 123 Main Street, Anytown, AZ 85258-0001.\")) # True\n",
    "print(check_zip_code(\"The Parliament of Canada is at 111 Wellington St, Ottawa, ON K1A0A9.\")) # False"
   ]
  },
  {
   "attachments": {},
   "cell_type": "markdown",
   "metadata": {},
   "source": [
    "### 3.2 advanced regular expressions"
   ]
  },
  {
   "cell_type": "code",
   "execution_count": 8,
   "metadata": {},
   "outputs": [
    {
     "name": "stdout",
     "output_type": "stream",
     "text": [
      "John F. Kennedy\n",
      "John-F. Kennedy\n"
     ]
    }
   ],
   "source": [
    "import re\n",
    "def rearrange_name(name):\n",
    "  result = re.search(r\"^([\\w\\. \\-]*), ([\\w\\. \\-]*)$\", name)\n",
    "  if result == None:\n",
    "    return name\n",
    "  return \"{} {}\".format(result[2], result[1])\n",
    "\n",
    "name = rearrange_name(\"Kennedy, John F.\")\n",
    "print(name)\n",
    "name = rearrange_name(\"Kennedy, John-F.\")\n",
    "print(name)"
   ]
  },
  {
   "cell_type": "code",
   "execution_count": 5,
   "metadata": {},
   "outputs": [
    {
     "name": "stdout",
     "output_type": "stream",
     "text": [
      "<re.Match object; span=(0, 16), match='Alice, chen, liu'>\n",
      "('Alice', 'chen', 'liu')\n"
     ]
    }
   ],
   "source": [
    "name = \"Alice, Chen, Liu\"\n",
    "result = re.search(r\"^(\\w*), (\\w*), ([\\w\\.\\ ]*)$\", name)\n",
    "print(result)\n",
    "print(result.groups())"
   ]
  },
  {
   "attachments": {},
   "cell_type": "markdown",
   "metadata": {},
   "source": [
    "Exercises"
   ]
  },
  {
   "attachments": {},
   "cell_type": "markdown",
   "metadata": {},
   "source": [
    "Q2 Returns all words iwth 3 or more consecutive vowels."
   ]
  },
  {
   "cell_type": "code",
   "execution_count": 2,
   "metadata": {},
   "outputs": [
    {
     "name": "stdout",
     "output_type": "stream",
     "text": [
      "['beautiful']\n",
      "['Obviously', 'queen', 'courageous', 'gracious']\n",
      "['rambunctious', 'quietly', 'delicious']\n",
      "['queue']\n",
      "[]\n"
     ]
    }
   ],
   "source": [
    "import re\n",
    "def multi_vowel_words(text):\n",
    "  pattern = r\"\\b\\w*[aeiou]{3,}\\w*\\b\"\n",
    "  result = re.findall(pattern, text)\n",
    "  return result\n",
    "\n",
    "print(multi_vowel_words(\"Life is beautiful\")) \n",
    "# ['beautiful']\n",
    "\n",
    "print(multi_vowel_words(\"Obviously, the queen is courageous and gracious.\")) \n",
    "# ['Obviously', 'queen', 'courageous', 'gracious']\n",
    "\n",
    "print(multi_vowel_words(\"The rambunctious children had to sit quietly and await their delicious dinner.\")) \n",
    "# ['rambunctious', 'quietly', 'delicious']\n",
    "\n",
    "print(multi_vowel_words(\"The order of a data queue is First In First Out (FIFO)\")) \n",
    "# ['queue']\n",
    "\n",
    "print(multi_vowel_words(\"Hello world!\")) \n",
    "# []"
   ]
  },
  {
   "attachments": {},
   "cell_type": "markdown",
   "metadata": {},
   "source": [
    "Q5 US phone number conversion"
   ]
  },
  {
   "cell_type": "code",
   "execution_count": 21,
   "metadata": {},
   "outputs": [
    {
     "name": "stdout",
     "output_type": "stream",
     "text": [
      "None\n",
      "1123-123-1234\n"
     ]
    }
   ],
   "source": [
    "phone = \"1123-123-1234\"\n",
    "regex = r\"(\\b[\\d]{3})-([\\d]{3})-([\\d]{4}\\b)\"\n",
    "\n",
    "result = re.search(regex, phone)\n",
    "print(result)\n",
    "#print(result.groups())\n",
    "\n",
    "result2 = re.sub(regex, r\"(\\1) \\2-\\3\", phone)\n",
    "print(result2)"
   ]
  },
  {
   "cell_type": "code",
   "execution_count": 22,
   "metadata": {},
   "outputs": [
    {
     "name": "stdout",
     "output_type": "stream",
     "text": [
      "My number is (212) 345-9999.\n",
      "Please call (888) 555-1234\n",
      "123-123-12345\n",
      "Phone number of Buckingham Palace is +44 303 123 7300\n"
     ]
    }
   ],
   "source": [
    "import re\n",
    "def convert_phone_number(phone):\n",
    "  result = re.sub(r\"\\b([\\d]{3})-([\\d]{3})-([\\d]{4}\\b)\", r\"(\\1) \\2-\\3\", phone)\n",
    "  return result\n",
    "\n",
    "print(convert_phone_number(\"My number is 212-345-9999.\")) # My number is (212) 345-9999.\n",
    "print(convert_phone_number(\"Please call 888-555-1234\")) # Please call (888) 555-1234\n",
    "print(convert_phone_number(\"123-123-12345\")) # 123-123-12345\n",
    "print(convert_phone_number(\"Phone number of Buckingham Palace is +44 303 123 7300\")) # Phone number of Buckingham Palace is +44 303 123 7300"
   ]
  },
  {
   "attachments": {},
   "cell_type": "markdown",
   "metadata": {},
   "source": [
    "## Week 4 managing data and processes"
   ]
  },
  {
   "attachments": {},
   "cell_type": "markdown",
   "metadata": {},
   "source": [
    "### 4.1 data streams"
   ]
  },
  {
   "cell_type": "code",
   "execution_count": 4,
   "metadata": {},
   "outputs": [
    {
     "name": "stdout",
     "output_type": "stream",
     "text": [
      "Please Enter a Number: \n",
      "97\n"
     ]
    }
   ],
   "source": [
    "my_number = input('Please Enter a Number: \\n')"
   ]
  },
  {
   "cell_type": "code",
   "execution_count": 5,
   "metadata": {},
   "outputs": [
    {
     "name": "stdout",
     "output_type": "stream",
     "text": [
      "97\n"
     ]
    }
   ],
   "source": [
    "print(my_number)"
   ]
  },
  {
   "cell_type": "code",
   "execution_count": null,
   "metadata": {},
   "outputs": [],
   "source": []
  }
 ],
 "metadata": {
  "kernelspec": {
   "display_name": "Python 3 (ipykernel)",
   "language": "python",
   "name": "python3"
  },
  "language_info": {
   "codemirror_mode": {
    "name": "ipython",
    "version": 3
   },
   "file_extension": ".py",
   "mimetype": "text/x-python",
   "name": "python",
   "nbconvert_exporter": "python",
   "pygments_lexer": "ipython3",
   "version": "3.11.1"
  }
 },
 "nbformat": 4,
 "nbformat_minor": 2
}
